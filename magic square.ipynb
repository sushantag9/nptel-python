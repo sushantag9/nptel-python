{
 "cells": [
  {
   "cell_type": "code",
   "execution_count": null,
   "metadata": {},
   "outputs": [],
   "source": [
    "# for 3x3\n",
    "# pos 1 = (3/2,3-1) = 1,2\n",
    "# pos 2 = 1-1,2+1 = 0,3 = 0,0\n",
    "# pos 3 = 0-1,0+1 = -1,1 = 2,1\n",
    "# pos 4 = 2-1,1+1 = 1,2 = 2,0\n",
    "# pos 5 = 2-1,0+1 = 1,1\n",
    "# pos 6 = 1-1,1+1 = 0,2\n",
    "# pos 7 = 0-1,2+1 = -1,3 = 0,1\n",
    "# pos 8 = 0-1,1+1 = -1,2 = 2,2\n",
    "# pos 9 = 2-1,2+1 = 1,3 = 1,0\n"
   ]
  },
  {
   "cell_type": "code",
   "execution_count": 19,
   "metadata": {},
   "outputs": [
    {
     "name": "stdout",
     "output_type": "stream",
     "text": [
      "[[0, 0, 0, 0, 0, 0, 0], [0, 0, 0, 0, 0, 0, 0], [0, 0, 0, 0, 0, 0, 0], [0, 0, 0, 0, 0, 0, 0], [0, 0, 0, 0, 0, 0, 0], [0, 0, 0, 0, 0, 0, 0], [0, 0, 0, 0, 0, 0, 0]]\n",
      "[[20, 12, 4, 45, 37, 29, 28], [11, 3, 44, 36, 35, 27, 19], [2, 43, 42, 34, 26, 18, 10], [49, 41, 33, 25, 17, 9, 1], [40, 32, 24, 16, 8, 7, 48], [31, 23, 15, 14, 6, 47, 39], [22, 21, 13, 5, 46, 38, 30]]\n",
      "the sum of col/row/diag is 175.0\n"
     ]
    }
   ],
   "source": [
    "def magic_square (n):\n",
    "    magicSquare = []\n",
    "    for i in range(n):\n",
    "        l = []\n",
    "        for j in range(n):\n",
    "            l.append(0)\n",
    "        magicSquare.append(l)\n",
    "    print(magicSquare)\n",
    "    # magic = [[0 for i in range(n)] for j in range(n)]\n",
    "    i = n//2\n",
    "    j = n-1\n",
    "    num = n*n\n",
    "    count = 1 # for elements\n",
    "    while(count<=num):\n",
    "        if(i==-1 and j == n): # condition 4\n",
    "            i = 0\n",
    "            j = n-2\n",
    "        else:\n",
    "            if j==n: # col is exceeding cond 3\n",
    "                j=0\n",
    "            if i<0:\n",
    "                i =n-1 # row is becoming -1 cond 3\n",
    "        #print(i,j, magicSquare)\n",
    "        if magicSquare[i][j] != 0 :\n",
    "            i = i+1\n",
    "            j = j-2\n",
    "            continue\n",
    "        else:\n",
    "            magicSquare[i][j] = count\n",
    "            count+=1\n",
    "        i = i-1 \n",
    "        j = j+1 # cond 1\n",
    "    print(magicSquare)\n",
    "    print(\"the sum of col/row/diag is \"+ str(n*(n**2+1)/2))\n",
    "magic_square(7)\n",
    "        "
   ]
  }
 ],
 "metadata": {
  "kernelspec": {
   "display_name": "Python 3",
   "language": "python",
   "name": "python3"
  },
  "language_info": {
   "codemirror_mode": {
    "name": "ipython",
    "version": 3
   },
   "file_extension": ".py",
   "mimetype": "text/x-python",
   "name": "python",
   "nbconvert_exporter": "python",
   "pygments_lexer": "ipython3",
   "version": "3.7.0"
  }
 },
 "nbformat": 4,
 "nbformat_minor": 2
}
