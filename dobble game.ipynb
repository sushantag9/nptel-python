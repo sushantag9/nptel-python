{
 "cells": [
  {
   "cell_type": "code",
   "execution_count": 3,
   "metadata": {},
   "outputs": [
    {
     "data": {
      "text/plain": [
       "'abcdefghijklmnopqrstuvwxyzABCDEFGHIJKLMNOPQRSTUVWXYZ'"
      ]
     },
     "execution_count": 3,
     "metadata": {},
     "output_type": "execute_result"
    }
   ],
   "source": [
    "# finding the similarity\n",
    "import string\n",
    "import random\n",
    "string.ascii_letters"
   ]
  },
  {
   "cell_type": "code",
   "execution_count": 34,
   "metadata": {},
   "outputs": [
    {
     "name": "stdout",
     "output_type": "stream",
     "text": [
      "1 1\n",
      "['i', 'p', 'T', 'm', 'd']\n",
      "['K', 'p', 'g', 'U', 'S']\n",
      "spot the similarp\n",
      "won\n"
     ]
    }
   ],
   "source": [
    "symbols = []\n",
    "symbols = list(string.ascii_letters)\n",
    "card1 = [0]*5\n",
    "card2 = [0]*5\n",
    "pos1 = random.randint(0,4)\n",
    "pos2 = random.randint(0,4)\n",
    "# in randint it will generate (0 to 4) both are inclusive\n",
    "print(pos1,pos2)\n",
    "samesymbol = random.choice(symbols)\n",
    "symbols.remove(samesymbol)\n",
    "if pos1==pos2:\n",
    "    card2[pos1] = samesymbol\n",
    "    card1[pos1] = samesymbol\n",
    "else:\n",
    "    card1[pos1]=samesymbol\n",
    "    card2[pos2]=samesymbol\n",
    "    card1[pos2]=random.choice(symbols)\n",
    "    symbols.remove(card1[pos2])\n",
    "    card2[pos1]= random.choice(symbols)\n",
    "    symbols.remove(card2[pos1])\n",
    "i=0\n",
    "while i<5:\n",
    "    if(i!=pos1 and i != pos2):\n",
    "        alpha1 = random.choice(symbols)\n",
    "        symbols.remove(alpha1)\n",
    "        alpha2 = random.choice(symbols)\n",
    "        symbols.remove(alpha2)\n",
    "        card1[i]=alpha1\n",
    "        card2[i]=alpha2\n",
    "    i+=1\n",
    "print(card1)\n",
    "print(card2)\n",
    "ch = input(\"spot the similar\")\n",
    "if(ch==samesymbol):\n",
    "    print(\"won\")\n",
    "else:\n",
    "    print(\"lose\")"
   ]
  },
  {
   "cell_type": "code",
   "execution_count": null,
   "metadata": {},
   "outputs": [],
   "source": []
  },
  {
   "cell_type": "code",
   "execution_count": null,
   "metadata": {},
   "outputs": [],
   "source": []
  }
 ],
 "metadata": {
  "kernelspec": {
   "display_name": "Python 3",
   "language": "python",
   "name": "python3"
  },
  "language_info": {
   "codemirror_mode": {
    "name": "ipython",
    "version": 3
   },
   "file_extension": ".py",
   "mimetype": "text/x-python",
   "name": "python",
   "nbconvert_exporter": "python",
   "pygments_lexer": "ipython3",
   "version": "3.7.0"
  }
 },
 "nbformat": 4,
 "nbformat_minor": 2
}
